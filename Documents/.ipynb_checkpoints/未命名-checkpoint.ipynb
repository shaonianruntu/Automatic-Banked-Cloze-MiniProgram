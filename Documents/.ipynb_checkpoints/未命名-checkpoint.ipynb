{
 "cells": [
  {
   "cell_type": "code",
   "execution_count": 1,
   "metadata": {},
   "outputs": [],
   "source": [
    "import numpy as np\n",
    "import pandas as pd"
   ]
  },
  {
   "cell_type": "code",
   "execution_count": 2,
   "metadata": {},
   "outputs": [
    {
     "name": "stdout",
     "output_type": "stream",
     "text": [
      "\u001b[34mCpp\u001b[m\u001b[m/\r\n",
      "\u001b[34mMMappedKV\u001b[m\u001b[m/\r\n",
      "\u001b[34mios\u001b[m\u001b[m/\r\n",
      "\u001b[31mmudou_spam.test\u001b[m\u001b[m*\r\n",
      "\u001b[31mmudou_spam.train\u001b[m\u001b[m*\r\n",
      "\u001b[34mpython\u001b[m\u001b[m/\r\n",
      "\u001b[34mswift\u001b[m\u001b[m/\r\n",
      "\u001b[31mtest.py\u001b[m\u001b[m*\r\n",
      "\u001b[31m基于sklearn实现逻辑回归.ipynb\u001b[m\u001b[m*\r\n",
      "\u001b[31m未命名.ipynb\u001b[m\u001b[m*\r\n",
      "\u001b[31m手写实现LR，用于垃圾短信分类_速度改进版.ipynb\u001b[m\u001b[m*\r\n",
      "神经⽹络和深度学习.pdf\r\n"
     ]
    }
   ],
   "source": [
    "ls"
   ]
  },
  {
   "cell_type": "code",
   "execution_count": 3,
   "metadata": {},
   "outputs": [],
   "source": [
    "train_file_path = \"mudou_spam.train\"\n",
    "test_file_path = \"mudou_spam.test\""
   ]
  },
  {
   "cell_type": "code",
   "execution_count": 4,
   "metadata": {
    "scrolled": true
   },
   "outputs": [
    {
     "data": {
      "text/plain": [
       "'1\\t路痴不可怕，就怕没地图，高德地图，精确定位，快速导航，秒杀一切路痴，找银行、找饭店，so easy,一键在手，走遍全球，下载地址：  http://ah-3g.cn/cp.jsp?id=6427\\t路痴 不 可怕 ， 就 怕 没 地图 ， 高德 地图 ， 精确定位 ， 快速 导航 ， 秒杀 一切 路痴 ， 找 银行 、 找 饭店 ， so   easy , 一键 在手 ， 走遍 全球 ， 下载 地址 ：     http : / / ah - 3g . cn / cp . jsp ? id = 6427\\n'"
      ]
     },
     "execution_count": 4,
     "metadata": {},
     "output_type": "execute_result"
    }
   ],
   "source": [
    "train_data = open(train_file_path, \"r\", encoding=\"utf-8\")\n",
    "train_set = train_data.readlines()\n",
    "train_set[0]"
   ]
  },
  {
   "cell_type": "code",
   "execution_count": 5,
   "metadata": {},
   "outputs": [
    {
     "data": {
      "text/plain": [
       "['1',\n",
       " '路痴不可怕，就怕没地图，高德地图，精确定位，快速导航，秒杀一切路痴，找银行、找饭店，so easy,一键在手，走遍全球，下载地址：  http://ah-3g.cn/cp.jsp?id=6427',\n",
       " '路痴 不 可怕 ， 就 怕 没 地图 ， 高德 地图 ， 精确定位 ， 快速 导航 ， 秒杀 一切 路痴 ， 找 银行 、 找 饭店 ， so   easy , 一键 在手 ， 走遍 全球 ， 下载 地址 ：     http : / / ah - 3g . cn / cp . jsp ? id = 6427\\n']"
      ]
     },
     "execution_count": 5,
     "metadata": {},
     "output_type": "execute_result"
    }
   ],
   "source": [
    "train_data = open(train_file_path, \"r\", encoding=\"utf-8\")\n",
    "train_set = train_data.readlines()\n",
    "train_set[0].split(\"\\t\")"
   ]
  },
  {
   "cell_type": "code",
   "execution_count": 6,
   "metadata": {},
   "outputs": [],
   "source": [
    "#读取输入数据，并返回相应的分词后的特征集和标识集\n",
    "def get_data(data_file_path):\n",
    "    \n",
    "    lines = []    \n",
    "    labels = []\n",
    "    \n",
    "    for line in open(data_file_path, \"r\", encoding=\"utf-8\"):\n",
    "        #对每一个行样本信息按照制表符进行分割得到list\n",
    "        #第一行为标签，第二行为原短信内容，第三行为分词处理之后的短信内容\n",
    "        arr = line.rstrip().split(\"\\t\")\n",
    "        #如果样本信息不完整（不足三行）就丢弃\n",
    "        if len(arr) < 3:\n",
    "            continue\n",
    "        \n",
    "        #读取标签，并当负标签为-1时，对其进行转化为0\n",
    "        if int(arr[0]) == 1:\n",
    "            label = 1\n",
    "        elif int(arr[0]) == 0 or int(arr[0]) == -1:\n",
    "            label = 0\n",
    "        else:\n",
    "            continue\n",
    "        labels.append(label)\n",
    "        \n",
    "        #读取分词之后的句子\n",
    "        text = arr[2]\n",
    "        text_arr = list(arr[2].split())\n",
    "        lines.append(text_arr)\n",
    "        \n",
    "    return lines, labels "
   ]
  },
  {
   "cell_type": "code",
   "execution_count": 7,
   "metadata": {},
   "outputs": [],
   "source": [
    "#得到分离后的特征和标记\n",
    "train_data, train_label = get_data(train_file_path)\n",
    "test_data, test_label = get_data(test_file_path)"
   ]
  },
  {
   "cell_type": "code",
   "execution_count": 8,
   "metadata": {},
   "outputs": [],
   "source": [
    "#创建词袋字典\n",
    "def create_vocab_dict(data_set):\n",
    "    vocab_dict = {}\n",
    "    for data_line in data_set:\n",
    "        for word in data_line:\n",
    "            if word in vocab_dict:\n",
    "                vocab_dict[word] += 1\n",
    "            else:\n",
    "                vocab_dict[word] = 1\n",
    "    return vocab_dict"
   ]
  },
  {
   "cell_type": "code",
   "execution_count": 9,
   "metadata": {},
   "outputs": [],
   "source": [
    "#构建文本的BOW词袋特征\n",
    "#BOW字典\n",
    "vocab_dict = create_vocab_dict(train_data)\n",
    "#对字典按照value进行排序\n",
    "sorted_vocab_list = sorted(vocab_dict.items(), key=lambda d:d[1], reverse=True)\n",
    "#筛出字典中value小于min_freq的键值对，并生成相应的键队列，得到BOW特征\n",
    "min_freq = 5\n",
    "vocab_list = [v[0] for v in sorted_vocab_list if int(v[1]) > min_freq]"
   ]
  },
  {
   "cell_type": "code",
   "execution_count": 10,
   "metadata": {},
   "outputs": [],
   "source": [
    "#得到输入分词后的样本的BOW特征\n",
    "def BOW_feature(vocab_list, input_set):\n",
    "    return_vec = np.zeros(len(vocab_list), )\n",
    "    for word in input_set:\n",
    "        if word in vocab_list:\n",
    "            return_vec[vocab_list.index(word)] += 1\n",
    "    return return_vec"
   ]
  },
  {
   "cell_type": "code",
   "execution_count": null,
   "metadata": {},
   "outputs": [],
   "source": [
    "#生成文本的BOW特征\n",
    "train_X = []\n",
    "for one_msg in train_data:\n",
    "    train_X.append(BOW_feature(vocab_list, train_data))\n",
    "\n",
    "test_X = []\n",
    "for one_msg in test_data:\n",
    "    test_X.append(BOW_feature(vocab_list, test_data))"
   ]
  },
  {
   "cell_type": "code",
   "execution_count": null,
   "metadata": {},
   "outputs": [],
   "source": [
    "train_X_in = train_X\n",
    "#样本个数、样本的属性个数\n",
    "case_cnt, feature_cnt = train_X_in.shape"
   ]
  }
 ],
 "metadata": {
  "kernelspec": {
   "display_name": "Python 3",
   "language": "python",
   "name": "python3"
  },
  "language_info": {
   "codemirror_mode": {
    "name": "ipython",
    "version": 3
   },
   "file_extension": ".py",
   "mimetype": "text/x-python",
   "name": "python",
   "nbconvert_exporter": "python",
   "pygments_lexer": "ipython3",
   "version": "3.7.1"
  }
 },
 "nbformat": 4,
 "nbformat_minor": 2
}
